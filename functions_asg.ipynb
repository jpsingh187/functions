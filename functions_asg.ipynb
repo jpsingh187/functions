{
  "nbformat": 4,
  "nbformat_minor": 0,
  "metadata": {
    "colab": {
      "provenance": []
    },
    "kernelspec": {
      "name": "python3",
      "display_name": "Python 3"
    },
    "language_info": {
      "name": "python"
    }
  },
  "cells": [
    {
      "cell_type": "code",
      "execution_count": null,
      "metadata": {
        "id": "gtmNNDY3Ff67"
      },
      "outputs": [],
      "source": []
    },
    {
      "cell_type": "markdown",
      "source": [
        "1. What is the difference between a function and a method in Python?\n",
        "\n",
        " - function is defined using def or lambda and is associated with no object.\n",
        "   on the other hand, method is defined inside a class and is bound to a class/object."
      ],
      "metadata": {
        "id": "h_fN8UmKF5jH"
      }
    },
    {
      "cell_type": "code",
      "source": [
        "#example for function\n",
        "\n",
        "def greeting(name):\n",
        "  return f\"Hello, {name}!\"\n",
        "\n",
        "greeting(\"Arjun\")"
      ],
      "metadata": {
        "colab": {
          "base_uri": "https://localhost:8080/",
          "height": 36
        },
        "id": "plvo8yJ7IkPg",
        "outputId": "6016fef2-811c-495f-e56e-238c6b16878c"
      },
      "execution_count": null,
      "outputs": [
        {
          "output_type": "execute_result",
          "data": {
            "text/plain": [
              "'Hello, Arjun!'"
            ],
            "application/vnd.google.colaboratory.intrinsic+json": {
              "type": "string"
            }
          },
          "metadata": {},
          "execution_count": 10
        }
      ]
    },
    {
      "cell_type": "code",
      "source": [
        "#example for method\n",
        "\n",
        "class Greeting:\n",
        "    def greet(self, name):\n",
        "        return f\"Hello, {name}!\"\n",
        "\n",
        "obj = Greeting()\n",
        "print(obj.greet(\"Arjun\"))"
      ],
      "metadata": {
        "colab": {
          "base_uri": "https://localhost:8080/"
        },
        "id": "gqV0hDeSI5km",
        "outputId": "37b63c3a-1b97-4e63-8acc-dd8deb353c02"
      },
      "execution_count": null,
      "outputs": [
        {
          "output_type": "stream",
          "name": "stdout",
          "text": [
            "Hello, Arjun!\n"
          ]
        }
      ]
    },
    {
      "cell_type": "markdown",
      "source": [
        "2. Explain the concept of function arguments and parameters in Python?\n",
        "\n",
        " - Parameters are placeholders in the function definition.\n",
        "   Arguments are the actual values we pass to the function when calling it.\n",
        "   "
      ],
      "metadata": {
        "id": "v0I9MikHJaZ5"
      }
    },
    {
      "cell_type": "code",
      "source": [
        "#example\n",
        "\n",
        "#'a' and 'b' are PARAMETERS\n",
        "# 5 and 3 are ARGUMENTS\n",
        "def add(a, b):\n",
        "    return a + b\n",
        "print(add(5, 3))"
      ],
      "metadata": {
        "colab": {
          "base_uri": "https://localhost:8080/"
        },
        "id": "o2l0Q-FWKXJ3",
        "outputId": "66c55de6-0a2f-4264-e846-00eb1fdbdc7f"
      },
      "execution_count": null,
      "outputs": [
        {
          "output_type": "stream",
          "name": "stdout",
          "text": [
            "8\n"
          ]
        }
      ]
    },
    {
      "cell_type": "markdown",
      "source": [
        "3. What are the different ways to define and call a function in Python?\n",
        "\n",
        "  -  1.standard fucntion\n",
        "     2.parameter\n",
        "     3.varibale lengh argument\n",
        "     4.lambda fuction\n",
        "     5.nested fucntion"
      ],
      "metadata": {
        "id": "zsrtYzBWKoYP"
      }
    },
    {
      "cell_type": "markdown",
      "source": [
        "4. What is the purpose of the `return` statement in a Python function?\n",
        "\n",
        "  - The return statement is used inside a function to send a value back as tuple to the  caller and terminate the function execution."
      ],
      "metadata": {
        "id": "yqwSQ_DWMJa4"
      }
    },
    {
      "cell_type": "code",
      "source": [
        "#example of retun\n",
        "\n",
        "def add(a, b):\n",
        "    return a + b\n",
        "result = add(5, 3)\n",
        "print(result)"
      ],
      "metadata": {
        "colab": {
          "base_uri": "https://localhost:8080/"
        },
        "id": "3LasXUSwPxiP",
        "outputId": "25c712bd-4351-4761-d0aa-9c47774031d2"
      },
      "execution_count": null,
      "outputs": [
        {
          "output_type": "stream",
          "name": "stdout",
          "text": [
            "8\n"
          ]
        }
      ]
    },
    {
      "cell_type": "markdown",
      "source": [
        "5. What are iterators in Python and how do they differ from iterables?\n",
        "\n",
        " - An iterable is any object that can return an iterator.\n",
        "   An iterator is an object that produces items one at a time."
      ],
      "metadata": {
        "id": "gww-H-lUQAa5"
      }
    },
    {
      "cell_type": "code",
      "source": [
        "nums = [1, 2, 3]\n",
        "for n in nums:\n",
        "    print(n)\n",
        "\n",
        "# nums is iterable"
      ],
      "metadata": {
        "colab": {
          "base_uri": "https://localhost:8080/"
        },
        "id": "cdNFAIa7P5TF",
        "outputId": "8e8282f2-6bc6-4aeb-98e7-02e159d9efd1"
      },
      "execution_count": null,
      "outputs": [
        {
          "output_type": "stream",
          "name": "stdout",
          "text": [
            "1\n",
            "2\n",
            "3\n"
          ]
        }
      ]
    },
    {
      "cell_type": "code",
      "source": [
        "nums = [1, 2, 3]\n",
        "top = iter(nums)\n",
        "print(next(top))\n",
        "print(next(top))\n",
        "print(next(top))\n",
        "\n",
        "#iter(nums) is iterator"
      ],
      "metadata": {
        "colab": {
          "base_uri": "https://localhost:8080/"
        },
        "id": "27QOWzmnQ-Q0",
        "outputId": "80e1e179-4b84-407e-9848-57da66c1c17b"
      },
      "execution_count": null,
      "outputs": [
        {
          "output_type": "stream",
          "name": "stdout",
          "text": [
            "1\n",
            "2\n",
            "3\n"
          ]
        }
      ]
    },
    {
      "cell_type": "markdown",
      "source": [
        "6. Explain the concept of generators in Python and how they are defined?\n",
        "\n",
        " - A generator in Python is a special type of iterator that generates value only when needed and is ideal for large data as it is Memory efficient and can be iterated once only"
      ],
      "metadata": {
        "id": "sm0ywarfSBCh"
      }
    },
    {
      "cell_type": "code",
      "source": [
        "#exapmle  for generator\n",
        "\n",
        "def my_generator():\n",
        "    yield 1\n",
        "    yield 2\n",
        "    yield 3\n",
        "gen = my_generator()\n",
        "print(next(gen))\n",
        "print(next(gen))\n",
        "print(next(gen))\n"
      ],
      "metadata": {
        "colab": {
          "base_uri": "https://localhost:8080/"
        },
        "id": "RvFX1kioTTBI",
        "outputId": "269dfc57-dbb7-4224-e7f7-b591bac28858"
      },
      "execution_count": null,
      "outputs": [
        {
          "output_type": "stream",
          "name": "stdout",
          "text": [
            "1\n",
            "2\n",
            "3\n"
          ]
        }
      ]
    },
    {
      "cell_type": "markdown",
      "source": [
        "7. What are the advantages of using generators over regular functions?\n",
        "\n",
        " -a.Memory Efficiency-  Generators yield one value at a time instead of storing the entire result in memory and is ideal for large datasets or infinite sequences.\n",
        "\n",
        "  b.Lazy Evaluation- Values are produced only when needed, reducing unnecessary computation.\n",
        "\n",
        "  c.Can Handle Infinite Data-  Generators can create endless streams without crashing.\n",
        "\n",
        "  d.Better Performance-  Starts producing results immediately without waiting for all data to be prepared.\n",
        "\n",
        "  e.Simpler Code-  Easier than writing custom iterator classes because yield automatically manages state."
      ],
      "metadata": {
        "id": "vvRut0Q4TsDe"
      }
    },
    {
      "cell_type": "code",
      "source": [
        "def squares_list(n):\n",
        "    return [i*i for i in range(n)]\n",
        "\n",
        "print(squares_list(5))"
      ],
      "metadata": {
        "colab": {
          "base_uri": "https://localhost:8080/"
        },
        "id": "jFuqeDhPTo45",
        "outputId": "6daca0b6-a42c-4a73-ae8a-ad3e9d9ec32a"
      },
      "execution_count": null,
      "outputs": [
        {
          "output_type": "stream",
          "name": "stdout",
          "text": [
            "[0, 1, 4, 9, 16]\n"
          ]
        }
      ]
    },
    {
      "cell_type": "markdown",
      "source": [
        "8. What is a lambda function in Python and when is it typically used?\n",
        "\n",
        " - A lambda function in Python is a small, anonymous function defined using the keyword lambda instead of def.It can have any number of arguments but only one expression and it returns the value of that expression automatically."
      ],
      "metadata": {
        "id": "oFws2SeDdO3h"
      }
    },
    {
      "cell_type": "code",
      "source": [
        "add = lambda x, y: x + y\n",
        "print(add(5, 3))"
      ],
      "metadata": {
        "colab": {
          "base_uri": "https://localhost:8080/"
        },
        "id": "N7ozK_XMdKJX",
        "outputId": "c9ebba48-a187-4b52-b524-f77ed3b1b280"
      },
      "execution_count": null,
      "outputs": [
        {
          "output_type": "stream",
          "name": "stdout",
          "text": [
            "8\n"
          ]
        }
      ]
    },
    {
      "cell_type": "markdown",
      "source": [
        "9. Explain the purpose and usage of the map() function in Python?\n",
        "\n",
        " - The map() function is used to apply a given function to each item in an iterable (like list, tuple, etc.) and return a map object (iterator)."
      ],
      "metadata": {
        "id": "MBFfTXPveF0-"
      }
    },
    {
      "cell_type": "code",
      "source": [
        "def square(x):\n",
        "    return x * x\n",
        "\n",
        "nums = [1, 2, 3, 4]\n",
        "result = map(square, nums)\n",
        "print(list(result))\n"
      ],
      "metadata": {
        "colab": {
          "base_uri": "https://localhost:8080/"
        },
        "id": "EMVBDPjfeDvI",
        "outputId": "3e898668-e2b1-46f2-811e-ca0e2424ba8d"
      },
      "execution_count": null,
      "outputs": [
        {
          "output_type": "stream",
          "name": "stdout",
          "text": [
            "[1, 4, 9, 16]\n"
          ]
        }
      ]
    },
    {
      "cell_type": "markdown",
      "source": [
        "10. What is the difference between `map()`, `reduce()`, and `filter()` functions in Python?\n",
        "\n",
        " -map()-\tApply a function to each element and returns Iterator     \n",
        "(transformed elements).\n",
        "\n",
        " filter()- Select elements that meet a condition and returns\tIterator\n",
        "  (filtered elements)\n",
        "\n",
        " reduce()- \tReduce all elements to a single value and returns\tsingle value\n",
        "  "
      ],
      "metadata": {
        "id": "Qhqts-XJeyF7"
      }
    },
    {
      "cell_type": "code",
      "source": [
        "from functools import reduce\n",
        "\n",
        "nums = [1, 2, 3, 4]\n",
        "\n",
        "print(list(map(lambda x: x*2, nums)))\n",
        "print(list(filter(lambda x: x%2==0, nums)))\n",
        "print(reduce(lambda x, y: x+y, nums))"
      ],
      "metadata": {
        "colab": {
          "base_uri": "https://localhost:8080/"
        },
        "id": "-Uc420x-evr8",
        "outputId": "e9a56b2b-ea4e-49ed-8152-ac09d9473fb1"
      },
      "execution_count": null,
      "outputs": [
        {
          "output_type": "stream",
          "name": "stdout",
          "text": [
            "[2, 4, 6, 8]\n",
            "[2, 4]\n",
            "10\n"
          ]
        }
      ]
    },
    {
      "cell_type": "markdown",
      "source": [],
      "metadata": {
        "id": "Hef3q32GjIPq"
      }
    },
    {
      "cell_type": "code",
      "source": [
        "11."
      ],
      "metadata": {
        "id": "tPpf3zcxgy57"
      },
      "execution_count": null,
      "outputs": []
    },
    {
      "cell_type": "code",
      "source": [
        "#1. Write a Python function that takes a list of numbers as input and returns the sum of all even numbers in the list?\n",
        "\n",
        "def sum(numbers):\n",
        "    total = 0\n",
        "    for num in numbers:\n",
        "        if num % 2 == 0:\n",
        "            total += num\n",
        "    return total\n",
        "\n",
        "\n",
        "nums = [1, 2, 3, 4, 5, 6]\n",
        "print(sum(nums))"
      ],
      "metadata": {
        "id": "7VJHkB5YTmTp",
        "colab": {
          "base_uri": "https://localhost:8080/"
        },
        "outputId": "742e1104-090e-4c32-d5a7-52c38e112d90"
      },
      "execution_count": null,
      "outputs": [
        {
          "output_type": "stream",
          "name": "stdout",
          "text": [
            "12\n"
          ]
        }
      ]
    },
    {
      "cell_type": "code",
      "source": [
        "#2. Create a Python function that accepts a string and returns the reverse of that string?\n",
        "\n",
        "def reverse(string):\n",
        "    return string[::-1]\n",
        "\n",
        "string = \"jaysingh\"\n",
        "print(reverse(string))"
      ],
      "metadata": {
        "colab": {
          "base_uri": "https://localhost:8080/"
        },
        "id": "1b3_KFdHBV1x",
        "outputId": "9f9a9619-039a-408b-acb0-e87d4ddfeefe"
      },
      "execution_count": null,
      "outputs": [
        {
          "output_type": "stream",
          "name": "stdout",
          "text": [
            "hgnisyaj\n"
          ]
        }
      ]
    },
    {
      "cell_type": "code",
      "source": [
        "#3. Implement a Python function that takes a list of integers and returns a new list containing the squares of each number?\n",
        "\n",
        "def square(numbers):\n",
        "    return [num**2 for num in numbers]\n",
        "\n",
        "nums = [1, 2, 3, 4]\n",
        "print(square(nums))"
      ],
      "metadata": {
        "colab": {
          "base_uri": "https://localhost:8080/"
        },
        "id": "KXLvyIjwBv6m",
        "outputId": "c796dca7-3496-4f37-a124-d3228444df98"
      },
      "execution_count": null,
      "outputs": [
        {
          "output_type": "stream",
          "name": "stdout",
          "text": [
            "[1, 4, 9, 16]\n"
          ]
        }
      ]
    },
    {
      "cell_type": "code",
      "source": [
        "#4. Write a Python function that checks if a given number is prime or not from 1 to 200?\n",
        "\n",
        "def is_prime(number):\n",
        "    if number < 2:\n",
        "        return False\n",
        "    for i in range(2, int(number**0.5) + 1):\n",
        "        if number % i == 0:\n",
        "            return False\n",
        "    return True\n",
        "\n",
        "for n in range(1, 201):\n",
        "    if is_prime(n):\n",
        "        print(n, end=\" \")"
      ],
      "metadata": {
        "colab": {
          "base_uri": "https://localhost:8080/"
        },
        "id": "NuzejvtQHyUC",
        "outputId": "d1fddb7d-e948-446d-e998-522dfc741922"
      },
      "execution_count": null,
      "outputs": [
        {
          "output_type": "stream",
          "name": "stdout",
          "text": [
            "2 3 5 7 11 13 17 19 23 29 31 37 41 43 47 53 59 61 67 71 73 79 83 89 97 101 103 107 109 113 127 131 137 139 149 151 157 163 167 173 179 181 191 193 197 199 "
          ]
        }
      ]
    },
    {
      "cell_type": "code",
      "source": [
        "#5. Create an iterator class in Python that generates the Fibonacci sequence up to a specified number of terms?\n",
        "\n",
        "def fibonacci(n_terms):\n",
        "    a, b = 0, 1\n",
        "    for i in range(n_terms):\n",
        "        yield a\n",
        "        a, b = b, a + b\n",
        "\n",
        "for num in fibonacci(10):\n",
        "    print(num, end=\" \")"
      ],
      "metadata": {
        "colab": {
          "base_uri": "https://localhost:8080/"
        },
        "id": "vlgf1HIMIX4b",
        "outputId": "e9090176-d343-4e14-f6fb-79b0358b6e63"
      },
      "execution_count": null,
      "outputs": [
        {
          "output_type": "stream",
          "name": "stdout",
          "text": [
            "0 1 1 2 3 5 8 13 21 34 "
          ]
        }
      ]
    },
    {
      "cell_type": "code",
      "source": [
        "#6. Write a generator function in Python that yields the powers of 2 up to a given exponent?\n",
        "\n",
        "def num(n):\n",
        "    for i in range(n + 1):\n",
        "        yield 2 ** i\n",
        "for value in num(5):\n",
        "    print(value, end=\" \")"
      ],
      "metadata": {
        "colab": {
          "base_uri": "https://localhost:8080/"
        },
        "id": "DP4jdxc9JAtl",
        "outputId": "2fd04cf1-9a56-4c5c-e835-ab1fbb165102"
      },
      "execution_count": null,
      "outputs": [
        {
          "output_type": "stream",
          "name": "stdout",
          "text": [
            "1 2 4 8 16 32 "
          ]
        }
      ]
    },
    {
      "cell_type": "code",
      "source": [
        "#7. Implement a generator function that reads a file line by line and yields each line as a string?"
      ],
      "metadata": {
        "id": "lCnv_wMHR_ko"
      },
      "execution_count": null,
      "outputs": []
    },
    {
      "cell_type": "code",
      "source": [
        "#8. Use a lambda function in Python to sort a list of tuples based on the second element of each tuple?\n",
        "\n",
        "tuples = [(1, 3), (3, 2), (2, 1)]\n",
        "sorted= sorted(tuples, key=lambda x: x[1])\n",
        "print(sorted)"
      ],
      "metadata": {
        "colab": {
          "base_uri": "https://localhost:8080/"
        },
        "id": "tJt1iUdY6w1v",
        "outputId": "f28e8382-ee6c-4d1c-e04c-a7f3e9583ce9"
      },
      "execution_count": 2,
      "outputs": [
        {
          "output_type": "stream",
          "name": "stdout",
          "text": [
            "[(2, 1), (3, 2), (1, 3)]\n"
          ]
        }
      ]
    },
    {
      "cell_type": "code",
      "source": [
        "#9. Write a Python program that uses `map()` to convert a list of temperatures from Celsius to Fahrenheit?\n",
        "\n",
        "def celsius_to_fahrenheit(celsius):\n",
        "    return (celsius * 9/5 + 32)\n",
        "celsius_list = [0, 22, 33, 100]\n",
        "\n",
        "fahrenheit_list = list(map(celsius_to_fahrenheit, celsius_list))\n",
        "\n",
        "print(\"Celsius:\", celsius_list)\n",
        "print(\"Fahrenheit:\", fahrenheit_list)"
      ],
      "metadata": {
        "colab": {
          "base_uri": "https://localhost:8080/"
        },
        "id": "to2-kHE57R6E",
        "outputId": "b88bfdf9-1576-478e-ab5b-bbae062cc885"
      },
      "execution_count": 4,
      "outputs": [
        {
          "output_type": "stream",
          "name": "stdout",
          "text": [
            "Celsius: [0, 22, 33, 100]\n",
            "Fahrenheit: [32.0, 71.6, 91.4, 212.0]\n"
          ]
        }
      ]
    },
    {
      "cell_type": "code",
      "source": [
        "#10. Create a Python program that uses `filter()` to remove all the vowels from a given string?\n",
        "\n",
        "text = \"i'm Jay, i am a student\"\n",
        "for i in \"aeiouAEIOU\":\n",
        "    text = text.replace(i, \"\")\n",
        "print(text)"
      ],
      "metadata": {
        "colab": {
          "base_uri": "https://localhost:8080/"
        },
        "id": "K6x_yJjt8CuU",
        "outputId": "2ea50ca9-159b-4dc5-8a24-e3ed08129154"
      },
      "execution_count": 6,
      "outputs": [
        {
          "output_type": "stream",
          "name": "stdout",
          "text": [
            "'m Jy,  m  stdnt\n"
          ]
        }
      ]
    },
    {
      "cell_type": "code",
      "source": [
        "'''11. Write a Python program, which returns a list with 2-tuples. Each tuple consists of the order number and the\n",
        "product of the price per item and the quantity. The product should be increased by 10,- € if the value of the\n",
        "order is smaller than 100,00 €.\n",
        "\n",
        "Write a Python program using lambda and map'''\n",
        "\n",
        "\n",
        "\n",
        "data = [\n",
        "{\"Order Number\": 34587, \"Book Title and Author\": \"Learning Python, Mark Lutz\", \"Quantity\": 4, \"Price per Item\": 40.95},\n",
        "{\"Order Number\": 98762, \"Book Title and Author\": \"Programming Python, Mark Lutz\", \"Quantity\": 5, \"Price per Item\": 56.80},\n",
        "{\"Order Number\": 77226, \"Book Title and Author\": \"Head First Python, Paul Barry\", \"Quantity\": 3, \"Price per Item\": 32.95},\n",
        "{\"Order Number\": 88112, \"Book Title and Author\": \"Einführung in Python3, Bernd Klein\", \"Quantity\": 3, \"Price per Item\": 24.99}\n",
        "]\n",
        "\n",
        "result=list(map(\n",
        "    lambda order:(\n",
        "        order[\"Order Number\"],\n",
        "        round(order[\"Quantity\"] * order[\"Price per Item\"] + (10 if order[\"Quantity\"] * order[\"Price per Item\"] < 100 else 0), 2)),\n",
        "    data\n",
        "))\n",
        "print(result)"
      ],
      "metadata": {
        "colab": {
          "base_uri": "https://localhost:8080/"
        },
        "id": "rDCydphmAS4a",
        "outputId": "414c8b1b-9eac-410a-ecc7-0ed091fb9b56"
      },
      "execution_count": 22,
      "outputs": [
        {
          "output_type": "stream",
          "name": "stdout",
          "text": [
            "[(34587, 163.8), (98762, 284.0), (77226, 108.85), (88112, 84.97)]\n"
          ]
        }
      ]
    },
    {
      "cell_type": "code",
      "source": [],
      "metadata": {
        "id": "HA3DehxwB-A4"
      },
      "execution_count": null,
      "outputs": []
    },
    {
      "cell_type": "code",
      "source": [],
      "metadata": {
        "id": "0B0mkBE-BsB4"
      },
      "execution_count": null,
      "outputs": []
    },
    {
      "cell_type": "code",
      "source": [],
      "metadata": {
        "id": "-wIzTvUJ_8Kh"
      },
      "execution_count": null,
      "outputs": []
    },
    {
      "cell_type": "code",
      "source": [],
      "metadata": {
        "id": "e0rEbPzb_ACZ"
      },
      "execution_count": null,
      "outputs": []
    },
    {
      "cell_type": "code",
      "source": [],
      "metadata": {
        "id": "ZLdJnP0Y-jdn"
      },
      "execution_count": null,
      "outputs": []
    },
    {
      "cell_type": "code",
      "source": [],
      "metadata": {
        "id": "CnOv8VbT-Kvc"
      },
      "execution_count": null,
      "outputs": []
    },
    {
      "cell_type": "code",
      "source": [],
      "metadata": {
        "id": "4Qa_X-NY-CLm"
      },
      "execution_count": null,
      "outputs": []
    },
    {
      "cell_type": "code",
      "source": [],
      "metadata": {
        "id": "iwTjQlvG98X0"
      },
      "execution_count": null,
      "outputs": []
    },
    {
      "cell_type": "code",
      "source": [],
      "metadata": {
        "id": "jbxu9rCl8pXj"
      },
      "execution_count": null,
      "outputs": []
    },
    {
      "cell_type": "code",
      "source": [],
      "metadata": {
        "id": "-67CyXBo7Abf"
      },
      "execution_count": null,
      "outputs": []
    },
    {
      "cell_type": "code",
      "source": [],
      "metadata": {
        "id": "WnMQHWSHR8dt"
      },
      "execution_count": null,
      "outputs": []
    },
    {
      "cell_type": "code",
      "source": [],
      "metadata": {
        "id": "l9sx7dvERxNy"
      },
      "execution_count": null,
      "outputs": []
    },
    {
      "cell_type": "code",
      "source": [],
      "metadata": {
        "id": "LhK1D03uRsOY"
      },
      "execution_count": null,
      "outputs": []
    },
    {
      "cell_type": "code",
      "source": [],
      "metadata": {
        "id": "6SoI9Cq7I90_"
      },
      "execution_count": null,
      "outputs": []
    },
    {
      "cell_type": "code",
      "source": [],
      "metadata": {
        "id": "7_LRnmyfIISi"
      },
      "execution_count": null,
      "outputs": []
    },
    {
      "cell_type": "code",
      "source": [],
      "metadata": {
        "id": "7JDJb7i2IGDU"
      },
      "execution_count": null,
      "outputs": []
    },
    {
      "cell_type": "code",
      "source": [],
      "metadata": {
        "id": "weWlHmZaIDgT"
      },
      "execution_count": null,
      "outputs": []
    },
    {
      "cell_type": "code",
      "source": [],
      "metadata": {
        "id": "pqxfb_wcCIRR"
      },
      "execution_count": null,
      "outputs": []
    },
    {
      "cell_type": "code",
      "source": [],
      "metadata": {
        "id": "wCV7r5BRTkZo"
      },
      "execution_count": null,
      "outputs": []
    },
    {
      "cell_type": "code",
      "source": [],
      "metadata": {
        "id": "3RVP05ggTdBB"
      },
      "execution_count": null,
      "outputs": []
    },
    {
      "cell_type": "code",
      "source": [],
      "metadata": {
        "id": "uHImft4HR78Y"
      },
      "execution_count": null,
      "outputs": []
    },
    {
      "cell_type": "code",
      "source": [],
      "metadata": {
        "id": "Uu8hN4bqRazt"
      },
      "execution_count": null,
      "outputs": []
    },
    {
      "cell_type": "code",
      "source": [],
      "metadata": {
        "id": "wXIw3acDQ3x8"
      },
      "execution_count": null,
      "outputs": []
    },
    {
      "cell_type": "code",
      "source": [],
      "metadata": {
        "id": "HCPAxfQ1MGWp"
      },
      "execution_count": null,
      "outputs": []
    },
    {
      "cell_type": "code",
      "source": [],
      "metadata": {
        "id": "N3BIEKhiKfPp"
      },
      "execution_count": null,
      "outputs": []
    },
    {
      "cell_type": "code",
      "source": [],
      "metadata": {
        "id": "ZZI41vILJWwc"
      },
      "execution_count": null,
      "outputs": []
    },
    {
      "cell_type": "code",
      "source": [],
      "metadata": {
        "id": "JqfE82HLJGoC"
      },
      "execution_count": null,
      "outputs": []
    },
    {
      "cell_type": "code",
      "source": [],
      "metadata": {
        "id": "Tt5LIGedI2kp"
      },
      "execution_count": null,
      "outputs": []
    },
    {
      "cell_type": "markdown",
      "source": [],
      "metadata": {
        "id": "q8JldJG7IaUl"
      }
    },
    {
      "cell_type": "markdown",
      "source": [],
      "metadata": {
        "id": "PvGP9Fz4IVva"
      }
    },
    {
      "cell_type": "code",
      "source": [],
      "metadata": {
        "id": "Ohk8WN0RISHz"
      },
      "execution_count": null,
      "outputs": []
    },
    {
      "cell_type": "code",
      "source": [],
      "metadata": {
        "id": "ajKSCdcqILOp"
      },
      "execution_count": null,
      "outputs": []
    },
    {
      "cell_type": "code",
      "source": [],
      "metadata": {
        "id": "Hw_yxbx_IJCM"
      },
      "execution_count": null,
      "outputs": []
    },
    {
      "cell_type": "code",
      "source": [],
      "metadata": {
        "id": "EWyNwiNiIERd"
      },
      "execution_count": null,
      "outputs": []
    }
  ]
}